{
 "cells": [
  {
   "cell_type": "markdown",
   "metadata": {},
   "source": [
    "# Optimasi Rute Transportasi Umum Untuk Efisiensi Layanan & Pengurangan Emisi Karbon\n",
    "\n",
    "> ## Topik:\n",
    "Studi kasus mengenai optimasi rute KRL Jabodetabek menggunakan dua pendekatan algoritmik, yaitu algoritma iteratif Dijkistra dan algoritma rekursif DFS (Depth-First Search). Pada program ini akan dilakukan 2 kali simulasi, yaitu pada Rute KRL Jabodetabek (Graf Statis) dan graf dinamis.\n",
    "\n",
    "> ## Anggota Kelompok\n",
    "- Nur Shabrina Muslim (103052300035)\n",
    "- Farand Diy Dat Mahazalfaa (103052300050)\n"
   ]
  },
  {
   "cell_type": "markdown",
   "metadata": {},
   "source": [
    "## 1. Langkah Awal: Menggambarkan Graf Rute KRL Jabodetabek menggunakan Networkx dan Matplotlib"
   ]
  },
  {
   "cell_type": "code",
   "execution_count": null,
   "metadata": {
    "vscode": {
     "languageId": "plaintext"
    }
   },
   "outputs": [],
   "source": []
  }
 ],
 "metadata": {
  "language_info": {
   "name": "python"
  }
 },
 "nbformat": 4,
 "nbformat_minor": 2
}
